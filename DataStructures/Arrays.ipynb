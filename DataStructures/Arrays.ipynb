{
 "cells": [
  {
   "cell_type": "code",
   "execution_count": 7,
   "metadata": {},
   "outputs": [
    {
     "name": "stdout",
     "output_type": "stream",
     "text": [
      " \n",
      " \n",
      "*\n",
      " \n",
      " \n",
      " \n",
      "*\n",
      " \n",
      " \n",
      "*\n",
      "*\n",
      "*\n",
      " \n",
      " \n",
      " \n"
     ]
    }
   ],
   "source": [
    "for i in range(0,5):\n",
    "    for j in range(i,5):\n",
    "        if i == 2 or j == 2:\n",
    "            print('*')\n",
    "        else:\n",
    "            print(' ')\n"
   ]
  },
  {
   "cell_type": "code",
   "execution_count": null,
   "metadata": {},
   "outputs": [],
   "source": []
  }
 ],
 "metadata": {
  "kernelspec": {
   "display_name": "base",
   "language": "python",
   "name": "python3"
  },
  "language_info": {
   "codemirror_mode": {
    "name": "ipython",
    "version": 3
   },
   "file_extension": ".py",
   "mimetype": "text/x-python",
   "name": "python",
   "nbconvert_exporter": "python",
   "pygments_lexer": "ipython3",
   "version": "3.9.13"
  },
  "orig_nbformat": 4,
  "vscode": {
   "interpreter": {
    "hash": "30eda179eb715ddbe714650ead0b53e428e801d5ac9f101c5b07d709f7b5c15e"
   }
  }
 },
 "nbformat": 4,
 "nbformat_minor": 2
}
