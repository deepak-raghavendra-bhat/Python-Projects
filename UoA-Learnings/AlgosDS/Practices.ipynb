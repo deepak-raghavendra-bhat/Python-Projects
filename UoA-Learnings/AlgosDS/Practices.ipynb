{
 "cells": [
  {
   "cell_type": "code",
   "execution_count": null,
   "metadata": {},
   "outputs": [],
   "source": [
    "# Merge Sorted Lists\n",
    "# Description\n",
    "# Until now you have been doing problems with just one iterator. Now, let's add another dimension to our coding skills with a few problems where it will be easier and faster to do similar things with two iterators. You are given two sorted lists. You have to merge those such that the output is also sorted. Now, of course, you can merge and then use the sorted function. But that would be doing it in O(n*log(n)) Time and wheres the fun in that. Let's see if you can do it in O(n).\n",
    "\n",
    "\n",
    "# Input:\n",
    "# Two lines of input \n",
    "# Each line will have a sorted list\n",
    "\n",
    "# Output:\n",
    "# Sorted merged list \n",
    "\n",
    "\n",
    "# Sample input:\n",
    "# [1, 3, 5, 7, 9, 10]\n",
    "# [2, 3, 4, 5, 6, 8, 11, 12, 13]\n",
    "\n",
    "# Sample output:\n",
    "# [1, 2, 3, 3, 4, 5, 5, 6, 7, 8, 9, 10, 11, 12, 13]\n",
    "# Execution Time Limit\n",
    "# 10 seconds\n",
    "\n",
    "import ast\n",
    "list1 = ast.literal_eval(input()) # [1, 3, 5, 7, 9, 10]\n",
    "list2 = ast.literal_eval(input()) #[2, 3, 4, 5, 6, 8, 11, 12, 13]\n",
    " \n",
    "\n",
    " \n",
    "\n",
    "len_list_1 = len(list1)\n",
    "len_list_2 = len(list2)\n",
    " \n",
    "res = []\n",
    "i, j = 0, 0\n",
    " \n",
    "while i < len_list_1 and j < len_list_2:\n",
    "    if list1[i] < list2[j]:\n",
    "        res.append(list1[i])\n",
    "        i += 1\n",
    " \n",
    "    else:\n",
    "        res.append(list2[j])\n",
    "        j += 1\n",
    " \n",
    "res = res + list1[i:] + list2[j:]\n",
    " \n",
    "# printing result\n",
    "print(res)"
   ]
  },
  {
   "cell_type": "code",
   "execution_count": 2,
   "metadata": {},
   "outputs": [
    {
     "ename": "SyntaxError",
     "evalue": "invalid syntax (<unknown>, line 0)",
     "output_type": "error",
     "traceback": [
      "Traceback \u001b[0;36m(most recent call last)\u001b[0m:\n",
      "\u001b[0m  File \u001b[1;32m~/.local/lib/python3.10/site-packages/IPython/core/interactiveshell.py:3442\u001b[0m in \u001b[1;35mrun_code\u001b[0m\n    exec(code_obj, self.user_global_ns, self.user_ns)\u001b[0m\n",
      "\u001b[0m  Cell \u001b[1;32mIn[2], line 2\u001b[0m\n    list1 = ast.literal_eval(input()) # [1, 3, 5, 7, 9, 10]\u001b[0m\n",
      "\u001b[0m  File \u001b[1;32m/usr/lib/python3.10/ast.py:62\u001b[0m in \u001b[1;35mliteral_eval\u001b[0m\n    node_or_string = parse(node_or_string.lstrip(\" \\t\"), mode='eval')\u001b[0m\n",
      "\u001b[0;36m  File \u001b[0;32m/usr/lib/python3.10/ast.py:50\u001b[0;36m in \u001b[0;35mparse\u001b[0;36m\n\u001b[0;31m    return compile(source, filename, mode, flags,\u001b[0;36m\n",
      "\u001b[0;36m  File \u001b[0;32m<unknown>\u001b[0;36m\u001b[0m\n\u001b[0;31m    \u001b[0m\n\u001b[0m    ^\u001b[0m\n\u001b[0;31mSyntaxError\u001b[0m\u001b[0;31m:\u001b[0m invalid syntax\n"
     ]
    }
   ],
   "source": []
  },
  {
   "cell_type": "code",
   "execution_count": 6,
   "metadata": {},
   "outputs": [
    {
     "name": "stdout",
     "output_type": "stream",
     "text": [
      "[(1, 2), (3, 3), (5, 4), (7, 5), (9, 6), (10, 8)]\n"
     ]
    }
   ],
   "source": [
    "list1 =  [1, 3, 5, 7, 9, 10]\n",
    "list2 = [2, 3, 4, 5, 6, 8, 11, 12, 13]\n",
    "\n",
    "res = sorted(zip(list1, list2))\n",
    "print(res)\n"
   ]
  },
  {
   "cell_type": "code",
   "execution_count": null,
   "metadata": {},
   "outputs": [],
   "source": [
    "# Specific sum\n",
    "# Description\n",
    "# Lets now raise the bar higher with this problem and drive home how amazing having more than one iterators can be.\n",
    "\n",
    "# You will be given a list and an integer k, you have to find two numbers from the list that add up to k\n",
    "\n",
    "\n",
    "\n",
    "# Input:\n",
    "\n",
    "# Two lines of input, the first line will have a sorted list of integers, the second list will have the number k\n",
    "\n",
    "\n",
    "\n",
    "# Output:\n",
    "\n",
    "# Two numbers from the list that add up to k\n",
    "\n",
    "\n",
    "\n",
    "\n",
    "\n",
    "# Sample input:\n",
    "\n",
    "# [1, 3, 5, 6, 10] \n",
    "\n",
    "# 15\n",
    "\n",
    "\n",
    "\n",
    "# Sample output:\n",
    "\n",
    "# 5 10\n",
    "\n",
    "\n",
    "\n",
    "\n",
    "\n",
    "# Sample input:\n",
    "\n",
    "# [2, 6, 7, 10, 16, 17, 19]\n",
    "\n",
    "# 24\n",
    "\n",
    "\n",
    "\n",
    "# Sample output:\n",
    "\n",
    "# 7 17\n",
    "\n",
    "# Execution Time Limit\n",
    "# 1 second"
   ]
  },
  {
   "cell_type": "code",
   "execution_count": 11,
   "metadata": {},
   "outputs": [
    {
     "name": "stdout",
     "output_type": "stream",
     "text": [
      "(5, 10)\n"
     ]
    }
   ],
   "source": [
    "def findPairs(lst, K): \n",
    "    res = []\n",
    "    while lst:\n",
    "        num = lst.pop()\n",
    "        diff = K - num\n",
    "        if diff in lst:\n",
    "            res.append((diff, num))\n",
    "          \n",
    "    res.reverse()\n",
    "    return res\n",
    "      \n",
    "# Driver code\n",
    "lst = [1, 3, 5, 6, 10] \n",
    "K = 15\n",
    "print(*(findPairs(lst, K)))"
   ]
  },
  {
   "cell_type": "code",
   "execution_count": 12,
   "metadata": {},
   "outputs": [
    {
     "name": "stdout",
     "output_type": "stream",
     "text": [
      "5 10\n"
     ]
    }
   ],
   "source": [
    "import ast\n",
    "data = ast.literal_eval(input())\n",
    "key = int(input())\n",
    "\n",
    "# data = [1, 3, 5, 6, 10] \n",
    "# key = 15\n",
    "\n",
    "l = 0\n",
    "r = len(data) - 1\n",
    "\n",
    "while l< r:\n",
    "    if (data[l] + data[r]) == key:\n",
    "        print(data[l],data[r])\n",
    "        break\n",
    "    elif(data[l] + data[r]) < key:\n",
    "        l = l+1\n",
    "    else:\n",
    "        r = r-1"
   ]
  },
  {
   "cell_type": "code",
   "execution_count": null,
   "metadata": {},
   "outputs": [],
   "source": [
    "# Recursion Factorial\n",
    "# Description\n",
    "# Earlier you found factorial using loops. Here you have to apply the theory of recursive functions to find the factorial of a positive integer.\n",
    "\n",
    "# ----------------------------------------------------------------------\n",
    "# Input:\n",
    "# A positive integer num.\n",
    "\n",
    "# Output:\n",
    "# The value of num factorial, num!.\n",
    "\n",
    "# Note: 0!=1.\n",
    "\n",
    "# ----------------------------------------------------------------------\n",
    "# Sample input:\n",
    "# 3\n",
    "\n",
    "# Sample output:\n",
    "# 6\n",
    "\n",
    "# ----------------------------------------------------------------------\n",
    "# Sample input:\n",
    "# 5\n",
    "\n",
    "# Sample output:\n",
    "# 120\n",
    "# Execution Time Limit\n",
    "# 20 seconds"
   ]
  },
  {
   "cell_type": "markdown",
   "metadata": {},
   "source": []
  },
  {
   "cell_type": "code",
   "execution_count": 14,
   "metadata": {},
   "outputs": [
    {
     "name": "stdout",
     "output_type": "stream",
     "text": [
      "120\n"
     ]
    }
   ],
   "source": [
    "\n",
    "num = int(input())\n",
    "\n",
    "def factorial(n):\n",
    "      \n",
    "    if n == 0:\n",
    "        return 1\n",
    "     \n",
    "    return n * factorial(n-1)\n",
    "  \n",
    "\n",
    "\n",
    "\n",
    "print(factorial(num))\n",
    "  "
   ]
  },
  {
   "cell_type": "code",
   "execution_count": null,
   "metadata": {},
   "outputs": [],
   "source": []
  },
  {
   "attachments": {},
   "cell_type": "markdown",
   "metadata": {},
   "source": [
    "Print numbers from -n to +n\n",
    "Description\n",
    "You’re given a positive number ‘n’ as an input. Write a recursive program to print all the numbers from -n to +n (including 0)\n",
    "Example:\n",
    "Input 1:\n",
    "3\n",
    "Output 1:\n",
    "-3\n",
    "-2\n",
    "-1\n",
    "0\n",
    "1\n",
    "2\n",
    "3"
   ]
  },
  {
   "cell_type": "code",
   "execution_count": 17,
   "metadata": {},
   "outputs": [
    {
     "name": "stdout",
     "output_type": "stream",
     "text": [
      "-10\n",
      "-9\n",
      "-8\n",
      "-7\n",
      "-6\n",
      "-5\n",
      "-4\n",
      "-3\n",
      "-2\n",
      "-1\n",
      "0\n",
      "1\n",
      "2\n",
      "3\n",
      "4\n",
      "5\n",
      "6\n",
      "7\n",
      "8\n",
      "9\n",
      "10\n"
     ]
    }
   ],
   "source": [
    "n = 10\n",
    "\n",
    "def allNum(n):\n",
    "    if n == 0:\n",
    "        print(n)\n",
    "    else:\n",
    "        print(-n)\n",
    "        allNum(n-1)\n",
    "        print(n)\n",
    "\n",
    "allNum(n)\n"
   ]
  },
  {
   "cell_type": "code",
   "execution_count": null,
   "metadata": {},
   "outputs": [],
   "source": []
  },
  {
   "attachments": {},
   "cell_type": "markdown",
   "metadata": {},
   "source": [
    "Recursive Fibonacci\n",
    "Description\n",
    "Earlier you found Fibonacci numbers using loops. In this question, let's try and find it by writing a recursive function. You will be given a positive integer n you have to find the nth Fibonacci number.\n",
    "\n",
    "The Fibonacci series: 1, 1, 2, 3, 5, 8, 13, 21...\n",
    "\n",
    "----------------------------------------------------------------------\n",
    "Input:\n",
    "A positive integer n\n",
    "\n",
    "Output:\n",
    "The nth term in Fibonacci series.\n",
    "\n",
    "----------------------------------------------------------------------\n",
    "Sample input:\n",
    "2\n",
    "\n",
    "Sample output:\n",
    "1\n",
    "\n",
    "----------------------------------------------------------------------\n",
    "Sample input:\n",
    "8\n",
    "\n",
    "Sample output: \n",
    "21\n",
    "\n",
    "----------------------------------------------------------------------\n",
    "Note the execution time limit for this problem is less.\n",
    "Execution Time Limit\n",
    "15 seconds"
   ]
  },
  {
   "cell_type": "code",
   "execution_count": 18,
   "metadata": {},
   "outputs": [
    {
     "name": "stdout",
     "output_type": "stream",
     "text": [
      "F(n) = 21\n"
     ]
    }
   ],
   "source": [
    "def fib(n):\n",
    " \n",
    "    if n <= 1:\n",
    "        return n\n",
    " \n",
    "    return fib(n - 1) + fib(n - 2)\n",
    " \n",
    " \n",
    "\n",
    " \n",
    "n = 8\n",
    "print('F(n) =', fib(n))"
   ]
  },
  {
   "cell_type": "code",
   "execution_count": 19,
   "metadata": {},
   "outputs": [
    {
     "name": "stdout",
     "output_type": "stream",
     "text": [
      "30\n"
     ]
    }
   ],
   "source": [
    "def Unknown_func(number):\n",
    "    if number == 0:\n",
    "        return 0\n",
    "    else:\n",
    "        return number*number + Unknown_func(number-1)\n",
    "\n",
    "print(Unknown_func(4))"
   ]
  },
  {
   "cell_type": "code",
   "execution_count": 24,
   "metadata": {},
   "outputs": [
    {
     "name": "stdout",
     "output_type": "stream",
     "text": [
      "5\n"
     ]
    }
   ],
   "source": [
    "def Unknown_func(number):\n",
    "    if(number == 1):\n",
    "        return (0)\n",
    "    else:\n",
    "        return (1 + Unknown_func(number//2))\n",
    "\n",
    "\n",
    "print(Unknown_func(63))"
   ]
  },
  {
   "cell_type": "code",
   "execution_count": 25,
   "metadata": {},
   "outputs": [
    {
     "name": "stdout",
     "output_type": "stream",
     "text": [
      "8\n"
     ]
    }
   ],
   "source": [
    "def Unknown_func(n):\n",
    "    if n <= 1:\n",
    "        return(n)\n",
    "    else:\n",
    "        return (Unknown_func(n-1) + Unknown_func(n-2))\n",
    "print(Unknown_func(6))"
   ]
  },
  {
   "cell_type": "code",
   "execution_count": null,
   "metadata": {},
   "outputs": [],
   "source": []
  },
  {
   "attachments": {},
   "cell_type": "markdown",
   "metadata": {},
   "source": [
    "Weird Function\n",
    "Description\n",
    "In data science, quite often you need to implement research papers and write code according to what's present in those papers. Research papers have a lot of maths involved and you need to implement the maths in code. In this exercise, you're required to implement some maths in code. The problem is as follows:\n",
    "\n",
    "For fixed integers a, b, c, define a weird function F(n) as follows: \n",
    "F(n) = n - c for all n > b \n",
    "F(n) = F(a + F(a + F(a + F(a + n)))) for all n ≤ b. \n",
    " \n",
    "Also, define S(a, b, c) = ∑F(n) where n takes the values 0 till b [in other words, S(a, b, c) = F(0) + F(1) + F(2) + .... F(b-1) + F(b)].\n",
    "\n",
    "The input will be the value of a, b and c. The output should be S(a, b, c). You can define the functions in your own customized way with no restrictions on the number of parameters. For example, you can define the function S which can take additional parameters than a, b and c. Just make sure the code behaves as per the maths.\n",
    " \n",
    "For example, if a = 20, b = 100 and c = 15, then F(0) = 195 and F(2000) = 1985. \n",
    "Therefore, S(20, 100, 15) = 14245\n",
    "\n",
    "\n",
    "Input:\n",
    "3 values separated by a comma\n",
    "a,b,c\n",
    "\n",
    "Output:\n",
    "S(a,b,c)\n",
    "\n",
    "\n",
    "Sample input:\n",
    "20, 100, 15\n",
    "\n",
    "Sample output:\n",
    "14245\n",
    "Execution Time Limit\n",
    "99 seconds"
   ]
  },
  {
   "cell_type": "code",
   "execution_count": 29,
   "metadata": {},
   "outputs": [
    {
     "name": "stdout",
     "output_type": "stream",
     "text": [
      "14245\n"
     ]
    }
   ],
   "source": [
    "input_str = input()\n",
    "input_list = input_str.split(',')\n",
    "\n",
    "a,b,c = int(input_list[0]),int(input_list[1]),int(input_list[2])\n",
    "# b = int(input_list[1])\n",
    "# c = int(input_list[2])\n",
    "\n",
    "\n",
    "\n",
    "total = 0\n",
    "\n",
    "def weird(a,b,c,n):\n",
    "   \n",
    "#    For fixed integers a, b, c, define a weird function F(n) as follows: \n",
    "# F(n) = n - c for all n > b \n",
    "\n",
    "    if n>b:\n",
    "        return n-c\n",
    "    \n",
    "    # F(n) = F(a + F(a + F(a + F(a + n)))) for all n ≤ b. \n",
    "\n",
    "    else:\n",
    "        add=weird(a,b,c,a+n)\n",
    "        add1=weird(a,b,c,a+add)\n",
    "        add2=weird(a,b,c,a+add1)\n",
    "        return weird(a,b,c,a+add2)\n",
    "\n",
    "# S(a, b, c) = ∑F(n) where n takes the values 0 till b [in other words, S(a, b, c) = F(0) + F(1) + F(2) + .... F(b-1) + F(b)].\n",
    "def large_sum(a, b, c):\n",
    "    total = 0\n",
    "    for value in range(b+1):\n",
    "        total += weird(a, b, c, value)\n",
    "    return total\n",
    "\n",
    "result = large_sum(a, b, c)\n",
    "\n",
    "print(result)"
   ]
  },
  {
   "cell_type": "code",
   "execution_count": null,
   "metadata": {},
   "outputs": [],
   "source": []
  }
 ],
 "metadata": {
  "kernelspec": {
   "display_name": "Python 3",
   "language": "python",
   "name": "python3"
  },
  "language_info": {
   "codemirror_mode": {
    "name": "ipython",
    "version": 3
   },
   "file_extension": ".py",
   "mimetype": "text/x-python",
   "name": "python",
   "nbconvert_exporter": "python",
   "pygments_lexer": "ipython3",
   "version": "3.10.6"
  },
  "orig_nbformat": 4,
  "vscode": {
   "interpreter": {
    "hash": "916dbcbb3f70747c44a77c7bcd40155683ae19c65e1c03b4aa3499c5328201f1"
   }
  }
 },
 "nbformat": 4,
 "nbformat_minor": 2
}
