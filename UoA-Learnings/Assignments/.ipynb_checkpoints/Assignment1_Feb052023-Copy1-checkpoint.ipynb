{
 "cells": [
  {
   "cell_type": "code",
   "execution_count": 65,
   "metadata": {
    "id": "OBF0Quv3mbGO"
   },
   "outputs": [],
   "source": [
    "# Sample Price Data for testing\n",
    "\n",
    "# item_dict = {'almonds': 6,\n",
    "#  'antioxidant juice': 9,\n",
    "#  'avocado': 1,\n",
    "#  'black tea': 4}"
   ]
  },
  {
   "cell_type": "code",
   "execution_count": 76,
   "metadata": {},
   "outputs": [],
   "source": [
    "# Price Data\n",
    "\n",
    "item_dict = {'almonds': 6,\n",
    " 'antioxidant juice': 9,\n",
    " 'avocado': 1,\n",
    " 'black tea': 4,\n",
    " 'burgers': 4,\n",
    " 'champagne': 3,\n",
    " 'chicken': 4,\n",
    " 'chocolate': 7,\n",
    " 'chutney': 7,\n",
    " 'cookies': 7,\n",
    " 'cooking oil': 7,\n",
    " 'cottage cheese': 9,\n",
    " 'eggs': 9,\n",
    " 'energy bar': 9,\n",
    " 'energy drink': 3,\n",
    " 'extra dark chocolate': 8,\n",
    " 'french fries': 7,\n",
    " 'fresh tuna': 9,\n",
    " 'frozen smoothie': 7,\n",
    " 'frozen vegetables': 2,\n",
    " 'green grapes': 8,\n",
    " 'green tea': 8,\n",
    " 'honey': 9,\n",
    " 'light cream': 5,\n",
    " 'low fat yogurt': 4,\n",
    " 'meatballs': 9,\n",
    " 'milk': 5,\n",
    " 'mineral water': 2,\n",
    " 'oil': 9,\n",
    " 'olive oil': 8,\n",
    " 'pet food': 3,\n",
    " 'protein bar': 1,\n",
    " 'salad': 7,\n",
    " 'salmon': 3,\n",
    " 'shallot': 6,\n",
    " 'shrimp': 2,\n",
    " 'soup': 2,\n",
    " 'spaghetti': 6,\n",
    " 'spinach': 7,\n",
    " 'tomato juice': 8,\n",
    " 'tomatoes': 5,\n",
    " 'turkey': 8,\n",
    " 'vegetables mix': 3,\n",
    " 'whole wheat flour': 5,\n",
    " 'whole wheat pasta': 5,\n",
    " 'whole wheat rice': 4,\n",
    " 'yams': 7}"
   ]
  },
  {
   "cell_type": "code",
   "execution_count": 120,
   "metadata": {},
   "outputs": [],
   "source": [
    "# transaction data\n",
    "\n",
    "transaction_data = \\\n",
    "[['shrimp', 'almonds', 'avocado', 'vegetables mix', 'green grapes', 'whole wheat flour', 'yams', 'cottage cheese', 'energy drink', 'tomato juice', 'low fat yogurt', 'green tea', 'honey', 'salad', 'mineral water', 'salmon', 'antioxidant juice', 'frozen smoothie', 'spinach', 'olive oil'],\n",
    "['burgers', 'meatballs', 'eggs'],\n",
    "['chutney'],\n",
    "['turkey', 'avocado'],\n",
    "['mineral water', 'milk', 'energy bar', 'whole wheat rice', 'green tea'],\n",
    "['low fat yogurt'],\n",
    "['whole wheat pasta', 'french fries'],\n",
    "['soup', 'light cream', 'shallot'],\n",
    "['frozen vegetables', 'spaghetti', 'green tea'],\n",
    "['french fries'],\n",
    "['eggs', 'pet food'],\n",
    "['cookies'],\n",
    "['turkey', 'burgers', 'mineral water', 'eggs', 'cooking oil'],\n",
    "['spaghetti', 'champagne', 'cookies'],\n",
    "['mineral water', 'salmon'],\n",
    "['mineral water'],\n",
    "['shrimp', 'chocolate', 'chicken', 'honey', 'oil', 'cooking oil', 'low fat yogurt'],\n",
    "['turkey', 'eggs'],\n",
    "['turkey', 'fresh tuna', 'tomatoes', 'spaghetti', 'mineral water', 'black tea', 'salmon', 'eggs', 'chicken', 'extra dark chocolate'],\n",
    "['meatballs', 'milk', 'honey', 'french fries', 'protein bar']]"
   ]
  },
  {
   "cell_type": "markdown",
   "metadata": {},
   "source": [
    "Q1. Based on customer demand, items keep changing in the store. Your first task is to create a function that lets the admin add or remove items from the store directory(Cost dictionary).\n",
    "\n",
    "The code should help admin to accomplish the following tasks:"
   ]
  },
  {
   "cell_type": "markdown",
   "metadata": {},
   "source": [
    "Find how many unique items are present in the data?  (Hint: It will correspond to the number of key pairs in the Cost dictionary)"
   ]
  },
  {
   "cell_type": "code",
   "execution_count": null,
   "metadata": {},
   "outputs": [],
   "source": [
    "print('unique items : ', len(item_dict))"
   ]
  },
  {
   "cell_type": "markdown",
   "metadata": {},
   "source": [
    "Find the total number of transactions?"
   ]
  },
  {
   "cell_type": "code",
   "execution_count": null,
   "metadata": {},
   "outputs": [],
   "source": [
    "print('total number of transactions : ', len(transaction_data))"
   ]
  },
  {
   "cell_type": "markdown",
   "metadata": {},
   "source": [
    "Add items, try adding the item “banana” in stores. The cost of this item is $5. Add the item “banana” to the Cost dictionary. \n",
    "Use a function named add_item( ) to automatically add an item to the Cost dictionary given its name and price."
   ]
  },
  {
   "cell_type": "code",
   "execution_count": 68,
   "metadata": {},
   "outputs": [
    {
     "ename": "NameError",
     "evalue": "name 'printitem_dict' is not defined",
     "output_type": "error",
     "traceback": [
      "\u001b[0;31m---------------------------------------------------------------------------\u001b[0m",
      "\u001b[0;31mNameError\u001b[0m                                 Traceback (most recent call last)",
      "\u001b[0;32m/tmp/ipykernel_3618/1791237475.py\u001b[0m in \u001b[0;36m<module>\u001b[0;34m\u001b[0m\n\u001b[1;32m      3\u001b[0m \u001b[0;34m\u001b[0m\u001b[0m\n\u001b[1;32m      4\u001b[0m \u001b[0madd_items\u001b[0m\u001b[0;34m(\u001b[0m\u001b[0;34m'banana'\u001b[0m\u001b[0;34m,\u001b[0m\u001b[0;36m5\u001b[0m\u001b[0;34m)\u001b[0m\u001b[0;34m\u001b[0m\u001b[0;34m\u001b[0m\u001b[0m\n\u001b[0;32m----> 5\u001b[0;31m \u001b[0mprintitem_dict\u001b[0m\u001b[0;34m\u001b[0m\u001b[0;34m\u001b[0m\u001b[0m\n\u001b[0m",
      "\u001b[0;31mNameError\u001b[0m: name 'printitem_dict' is not defined"
     ]
    }
   ],
   "source": [
    "def add_items(item_name,item_price):\n",
    "    item_dict[item_name] = item_price\n",
    "\n",
    "add_items('banana',5)\n",
    "print(item_dict)"
   ]
  },
  {
   "cell_type": "markdown",
   "metadata": {},
   "source": [
    "Remove an item: for example: if the customers at Walmart do not seem to be purchasing “banana,” and the store decides to discontinue this item. The function to should be able to remove the item “banana” from the Cost dictionary\n",
    "Create a function called remove_item( ) to automatically remove an item from the Cost dictionary given its name."
   ]
  },
  {
   "cell_type": "code",
   "execution_count": 69,
   "metadata": {},
   "outputs": [
    {
     "name": "stdout",
     "output_type": "stream",
     "text": [
      "{'almonds': 6, 'antioxidant juice': 9, 'avocado': 1, 'black tea': 4}\n"
     ]
    }
   ],
   "source": [
    "def remove_items(item_name):\n",
    "    item_dict.pop(item_name)\n",
    "\n",
    "remove_items('banana')\n",
    "print(item_dict)"
   ]
  },
  {
   "cell_type": "markdown",
   "metadata": {},
   "source": [
    "Q2. Once a customer has completed shopping, they need to be billed for the total amount of all the items. This can be done automatically by swiping each item’s barcode on a checkout system. Your second task is to build the software underlying the checkout system, which finds the total cost of all the items in a customer’s cart, including taxes:"
   ]
  },
  {
   "cell_type": "markdown",
   "metadata": {},
   "source": [
    "Write the code, to find the price of an item from the cost dictionary\n",
    "\n",
    "Find the price of salmon from the cost dictionary"
   ]
  },
  {
   "cell_type": "code",
   "execution_count": 75,
   "metadata": {},
   "outputs": [
    {
     "name": "stdout",
     "output_type": "stream",
     "text": [
      "Item not present in the Dictionary.\n"
     ]
    }
   ],
   "source": [
    "def findprice_item(item_name):\n",
    "    \n",
    "    if item_name in item_dict:\n",
    "        item_price = item_dict[item_name]\n",
    "        print(f\"The price of {item_name} is {item_price}\")\n",
    "    else:\n",
    "        print(\"Item not present in the Dictionary.\")\n",
    "\n",
    "findprice_item('salmon')"
   ]
  },
  {
   "cell_type": "markdown",
   "metadata": {},
   "source": [
    "Write a code that helps the administrator find any particular transaction in the sequence\n",
    "\n",
    "Try finding the ninth transaction from the data\n",
    "\n"
   ]
  },
  {
   "cell_type": "code",
   "execution_count": 107,
   "metadata": {},
   "outputs": [],
   "source": [
    "\n",
    "def search_transaction(transaction_num):\n",
    "    transaction = transaction_data[transaction_num-1]\n",
    "#     print(transaction)\n",
    "    if transaction:\n",
    "#         print(f\"There are {len(transaction)} items in this transaction and they are {transaction}\")\n",
    "        print(f\"There are {len(transaction)} items in this transaction and they are\\n\")\n",
    "        print(*transaction, sep=\"\\n\")\n",
    "    else:\n",
    "        print(\"Invalid input\")\n",
    "    return transaction\n",
    "\n"
   ]
  },
  {
   "cell_type": "markdown",
   "metadata": {},
   "source": [
    "How many items are present in the ninth transaction?"
   ]
  },
  {
   "cell_type": "code",
   "execution_count": 108,
   "metadata": {},
   "outputs": [
    {
     "name": "stdout",
     "output_type": "stream",
     "text": [
      "There are 3 items in this transaction and they are\n",
      "\n",
      "frozen vegetables\n",
      "spaghetti\n",
      "green tea\n"
     ]
    }
   ],
   "source": [
    "transaction_list = search_transaction(9)\n",
    "# print(transaction)"
   ]
  },
  {
   "cell_type": "markdown",
   "metadata": {},
   "source": [
    "Find the total cost of the ninth transaction from the array of transactions. Example: Input: [‘avocado’, ‘chutney’, ‘cookies’], Output: 15"
   ]
  },
  {
   "cell_type": "markdown",
   "metadata": {},
   "source": [
    "As per government guidelines, a mandatory 5% tax is applied to the total cost of a transaction. Find the final price of the second transaction after applicable taxes have been implemented.\n",
    "\n",
    "Create a function named find_total( ) to find the final price of any transaction after applicable taxes have been implemented."
   ]
  },
  {
   "cell_type": "code",
   "execution_count": 112,
   "metadata": {},
   "outputs": [
    {
     "name": "stdout",
     "output_type": "stream",
     "text": [
      "Total cost: 16\n",
      "Mandatory govt. tax : 5\n",
      "Total cost after tax : 16.8\n"
     ]
    }
   ],
   "source": [
    "def find_totalcost(transaction):\n",
    "    total_cost_beftax = 0\n",
    "     # for item in transaction:\n",
    "     #  total_cost_beftax+= int(item_dict[item])\n",
    "    total_cost_beftax += sum(int(item_dict[item]) for item in transaction)\n",
    "     # total = sum(int(cost) for cost in item_dict[key for key in transaction])\n",
    "    print(f\"Total cost: {total_cost_beftax}\")\n",
    "    find_total(total_cost_beftax)\n",
    "\n",
    "#     Create a function named find_total( ) to find the final price of any transaction after applicable taxes have been implemented.\n",
    "def find_total(total_cost_beftax):\n",
    "    tax = 5\n",
    "    total_cost = total_cost_beftax + ((5/100) * total_cost_beftax)\n",
    "     # total = sum(int(cost) for cost in item_dict[key for key in transaction])\n",
    "    print(f\"Mandatory govt. tax : {tax}\")\n",
    "    print(f\"Total cost after tax : {total_cost}\")\n",
    "\n",
    "find_totalcost(transaction)"
   ]
  },
  {
   "cell_type": "markdown",
   "metadata": {},
   "source": [
    "Q3. There is always a flow of items in and out of stores, which need to be tracked so that the store can place an order in case an item is running out of stock. Your third task is to build an inventory management system that will count the total number of items purchased from the transaction data. This inventory management system will go through each of the transactions one by one and increment the value for an item if it is found in a transaction."
   ]
  },
  {
   "cell_type": "markdown",
   "metadata": {},
   "source": [
    "What is the data structure that can be used to count the frequency of items purchased (from the transaction data)?\n",
    "\n"
   ]
  },
  {
   "cell_type": "code",
   "execution_count": 117,
   "metadata": {},
   "outputs": [],
   "source": [
    "freq_dict = {}"
   ]
  },
  {
   "cell_type": "markdown",
   "metadata": {},
   "source": [
    "Create a frequency counter to count the number of items:"
   ]
  },
  {
   "cell_type": "code",
   "execution_count": 123,
   "metadata": {},
   "outputs": [
    {
     "name": "stdout",
     "output_type": "stream",
     "text": [
      "------------------Item Frequency------------------\n",
      "shrimp                         8                                                                                              \n",
      "almonds                        4                                                                                              \n",
      "avocado                        8                                                                                              \n",
      "vegetables mix                 4                                                                                              \n",
      "green grapes                   4                                                                                              \n",
      "whole wheat flour              4                                                                                              \n",
      "yams                           4                                                                                              \n",
      "cottage cheese                 4                                                                                              \n",
      "energy drink                   4                                                                                              \n",
      "tomato juice                   4                                                                                              \n",
      "low fat yogurt                 12                                                                                             \n",
      "green tea                      12                                                                                             \n",
      "honey                          12                                                                                             \n",
      "salad                          4                                                                                              \n",
      "mineral water                  24                                                                                             \n",
      "salmon                         12                                                                                             \n",
      "antioxidant juice              4                                                                                              \n",
      "frozen smoothie                4                                                                                              \n",
      "spinach                        4                                                                                              \n",
      "olive oil                      4                                                                                              \n",
      "burgers                        8                                                                                              \n",
      "meatballs                      8                                                                                              \n",
      "eggs                           20                                                                                             \n",
      "chutney                        4                                                                                              \n",
      "turkey                         16                                                                                             \n",
      "milk                           8                                                                                              \n",
      "energy bar                     4                                                                                              \n",
      "whole wheat rice               4                                                                                              \n",
      "whole wheat pasta              4                                                                                              \n",
      "french fries                   12                                                                                             \n",
      "soup                           4                                                                                              \n",
      "light cream                    4                                                                                              \n",
      "shallot                        4                                                                                              \n",
      "frozen vegetables              4                                                                                              \n",
      "spaghetti                      12                                                                                             \n",
      "pet food                       4                                                                                              \n",
      "cookies                        8                                                                                              \n",
      "cooking oil                    8                                                                                              \n",
      "champagne                      4                                                                                              \n",
      "chocolate                      4                                                                                              \n",
      "chicken                        8                                                                                              \n",
      "oil                            4                                                                                              \n",
      "fresh tuna                     4                                                                                              \n",
      "tomatoes                       4                                                                                              \n",
      "black tea                      4                                                                                              \n",
      "extra dark chocolate           4                                                                                              \n",
      "protein bar                    4                                                                                              \n"
     ]
    }
   ],
   "source": [
    "def add_items_freq():\n",
    "    print('------------------Item Frequency------------------')\n",
    "    for transaction in transaction_data:\n",
    "        for item in transaction: # looping over each item present in the transaction\n",
    "            if item in freq_dict:\n",
    "                freq_dict[item]+= 1 # increment the frequency by 1 if the item is found in the dictionary\n",
    "            else:\n",
    "                freq_dict[item] = 1 # create a new key with the item name if the item is found for the first time\n",
    "    for key, value in freq_dict.items():\n",
    "        print(f\"{key:<30} {value:<95}\")    \n",
    "\n",
    "add_items_freq()\n",
    "\n"
   ]
  },
  {
   "cell_type": "markdown",
   "metadata": {},
   "source": [
    "A new transaction has just been made. This transaction includes “honey,” “pet food,” and “shrimp.” Update the frequency counter to reflect this new transaction."
   ]
  },
  {
   "cell_type": "code",
   "execution_count": 132,
   "metadata": {},
   "outputs": [],
   "source": [
    "trans = ['honey', 'pet food', 'shrimp']"
   ]
  },
  {
   "cell_type": "markdown",
   "metadata": {},
   "source": [
    "Create a function named update_counter( ) to automatically update the frequency counter in case any new transaction is made."
   ]
  },
  {
   "cell_type": "code",
   "execution_count": 134,
   "metadata": {},
   "outputs": [
    {
     "name": "stdout",
     "output_type": "stream",
     "text": [
      "shrimp                         11                                                                                             \n",
      "almonds                        4                                                                                              \n",
      "avocado                        8                                                                                              \n",
      "vegetables mix                 4                                                                                              \n",
      "green grapes                   4                                                                                              \n",
      "whole wheat flour              4                                                                                              \n",
      "yams                           4                                                                                              \n",
      "cottage cheese                 4                                                                                              \n",
      "energy drink                   4                                                                                              \n",
      "tomato juice                   4                                                                                              \n",
      "low fat yogurt                 12                                                                                             \n",
      "green tea                      12                                                                                             \n",
      "honey                          15                                                                                             \n",
      "salad                          4                                                                                              \n",
      "mineral water                  24                                                                                             \n",
      "salmon                         12                                                                                             \n",
      "antioxidant juice              4                                                                                              \n",
      "frozen smoothie                4                                                                                              \n",
      "spinach                        4                                                                                              \n",
      "olive oil                      4                                                                                              \n",
      "burgers                        8                                                                                              \n",
      "meatballs                      8                                                                                              \n",
      "eggs                           20                                                                                             \n",
      "chutney                        4                                                                                              \n",
      "turkey                         16                                                                                             \n",
      "milk                           8                                                                                              \n",
      "energy bar                     4                                                                                              \n",
      "whole wheat rice               4                                                                                              \n",
      "whole wheat pasta              4                                                                                              \n",
      "french fries                   12                                                                                             \n",
      "soup                           4                                                                                              \n",
      "light cream                    4                                                                                              \n",
      "shallot                        4                                                                                              \n",
      "frozen vegetables              4                                                                                              \n",
      "spaghetti                      12                                                                                             \n",
      "pet food                       7                                                                                              \n",
      "cookies                        8                                                                                              \n",
      "cooking oil                    8                                                                                              \n",
      "champagne                      4                                                                                              \n",
      "chocolate                      4                                                                                              \n",
      "chicken                        8                                                                                              \n",
      "oil                            4                                                                                              \n",
      "fresh tuna                     4                                                                                              \n",
      "tomatoes                       4                                                                                              \n",
      "black tea                      4                                                                                              \n",
      "extra dark chocolate           4                                                                                              \n",
      "protein bar                    4                                                                                              \n",
      "{'shrimp': 11, 'almonds': 4, 'avocado': 8, 'vegetables mix': 4, 'green grapes': 4, 'whole wheat flour': 4, 'yams': 4, 'cottage cheese': 4, 'energy drink': 4, 'tomato juice': 4, 'low fat yogurt': 12, 'green tea': 12, 'honey': 15, 'salad': 4, 'mineral water': 24, 'salmon': 12, 'antioxidant juice': 4, 'frozen smoothie': 4, 'spinach': 4, 'olive oil': 4, 'burgers': 8, 'meatballs': 8, 'eggs': 20, 'chutney': 4, 'turkey': 16, 'milk': 8, 'energy bar': 4, 'whole wheat rice': 4, 'whole wheat pasta': 4, 'french fries': 12, 'soup': 4, 'light cream': 4, 'shallot': 4, 'frozen vegetables': 4, 'spaghetti': 12, 'pet food': 7, 'cookies': 8, 'cooking oil': 8, 'champagne': 4, 'chocolate': 4, 'chicken': 8, 'oil': 4, 'fresh tuna': 4, 'tomatoes': 4, 'black tea': 4, 'extra dark chocolate': 4, 'protein bar': 4}\n"
     ]
    }
   ],
   "source": [
    "def update_counter(trans):\n",
    "    for item in trans: # looping over each item present in the transaction\n",
    "            if item in freq_dict:\n",
    "                freq_dict[item]+= 1 # increment the frequency by 1 if the item is found in the dictionary\n",
    "            else:\n",
    "                freq_dict[item] = 1 # create a new key with the item name if the item is found for the first time\n",
    "    for key, value in freq_dict.items():\n",
    "        print(f\"{key:<30} {value:<95}\")    \n",
    "    return freq_dict\n",
    "\n",
    "freq_dict = update_counter(trans)\n",
    "print(freq_dict)"
   ]
  },
  {
   "cell_type": "markdown",
   "metadata": {},
   "source": [
    "Q4. Walmart is running a discount week for Christmas! The sales manager has decided to keep a 20% discount on the top three selling items. Use the frequency counter that you created in Question 3 to solve this problem:\n",
    "\n",
    "What is the top-selling item?"
   ]
  },
  {
   "cell_type": "code",
   "execution_count": 147,
   "metadata": {},
   "outputs": [
    {
     "name": "stdout",
     "output_type": "stream",
     "text": [
      "Top selling item:  mineral water\n"
     ]
    }
   ],
   "source": [
    "# rearranging for displaying sorted items after invoking the 3 sorting functions.\n",
    "\n",
    "# sample for testing\n",
    "# freq_dict_temp = {'almonds': 2, 'antioxidant': 4, 'avocado': 3, 'black tea': 1}\n",
    "# sample for testing\n",
    "\n",
    "# temp storage of items. Not really needed as it adds memory but maintained for swapping the key and value pair to be used later. \n",
    "# used for unit testing.\n",
    "freq_dict_temp = {freq_dict[k] : k for k in freq_dict}\n",
    "\n",
    "# freq_dict_temp\n",
    "\n",
    "max_value = sorted(freq_dict.values())[-1]\n",
    "\n",
    "print(\"Top selling item: \",freq_dict_temp[max_value])"
   ]
  },
  {
   "cell_type": "code",
   "execution_count": 145,
   "metadata": {},
   "outputs": [
    {
     "name": "stdout",
     "output_type": "stream",
     "text": [
      "mineral water\n"
     ]
    }
   ],
   "source": [
    "\n"
   ]
  },
  {
   "cell_type": "code",
   "execution_count": 148,
   "metadata": {},
   "outputs": [
    {
     "name": "stdout",
     "output_type": "stream",
     "text": [
      "{'shrimp': 11, 'almonds': 4, 'avocado': 8, 'vegetables mix': 4, 'green grapes': 4, 'whole wheat flour': 4, 'yams': 4, 'cottage cheese': 4, 'energy drink': 4, 'tomato juice': 4, 'low fat yogurt': 12, 'green tea': 12, 'honey': 15, 'salad': 4, 'mineral water': 24, 'salmon': 12, 'antioxidant juice': 4, 'frozen smoothie': 4, 'spinach': 4, 'olive oil': 4, 'burgers': 8, 'meatballs': 8, 'eggs': 20, 'chutney': 4, 'turkey': 16, 'milk': 8, 'energy bar': 4, 'whole wheat rice': 4, 'whole wheat pasta': 4, 'french fries': 12, 'soup': 4, 'light cream': 4, 'shallot': 4, 'frozen vegetables': 4, 'spaghetti': 12, 'pet food': 7, 'cookies': 8, 'cooking oil': 8, 'champagne': 4, 'chocolate': 4, 'chicken': 8, 'oil': 4, 'fresh tuna': 4, 'tomatoes': 4, 'black tea': 4, 'extra dark chocolate': 4, 'protein bar': 4}\n"
     ]
    }
   ],
   "source": [
    "print(freq_dict)"
   ]
  },
  {
   "cell_type": "markdown",
   "metadata": {},
   "source": [
    "In real life, departmental stores have thousands of items and millions of transactions in their databases. In such situations, it becomes important to use an effective searching algorithm to navigate through the data. You need to sort the frequency counter dictionary by the value count(or the number of items). For example, if there are 3 apples, 5 bananas and 1 watermelon, the sorted list would be banana, apple, watermelon. So you need to sort the entire dictionary (with keys and values) based on the value count. Sort the frequency counter using the sorting algorithms provided in the table below. Additionally, for each of the sorting methods, leverage the time function in Python to see how many milliseconds it takes for an algorithm to sort items.\n",
    "\n",
    "Algorithm\tTime\n",
    "Merge \t \n",
    "Insertion\t \n",
    "Selection\t \n",
    "Rank the sorting algorithms in order of the time they take to sort items."
   ]
  },
  {
   "cell_type": "code",
   "execution_count": 45,
   "metadata": {},
   "outputs": [
    {
     "name": "stdout",
     "output_type": "stream",
     "text": [
      "2.86102294921875e-05\n",
      "{4: 'antioxidant', 3: 'avocado', 2: 'almonds', 1: 'black tea'}\n"
     ]
    }
   ],
   "source": [
    "import time\n",
    "\n",
    "# Get the keys as list\n",
    "freq_dict_keys = list(freq_dict.keys()) # [3, 5, 1, 4]\n",
    "\n",
    "sortedTimeDict = {}\n",
    "\n",
    "# print(freq_dict_keys)\n",
    "def mergeSort(arr):\n",
    "    \n",
    "    if len(arr) > 1:\n",
    " \n",
    "         # Finding the mid of the array\n",
    "        mid = len(arr)//2\n",
    " \n",
    "        # Dividing the array elements\n",
    "        L = arr[:mid]\n",
    " \n",
    "        # into 2 halves\n",
    "        R = arr[mid:]\n",
    " \n",
    "        # Sorting the first half\n",
    "        mergeSort(L)\n",
    " \n",
    "        # Sorting the second half\n",
    "        mergeSort(R)\n",
    " \n",
    "        i = j = k = 0\n",
    " \n",
    "        # Copy data to temp arrays L[] and R[]\n",
    "        while i < len(L) and j < len(R):\n",
    "            if L[i] <= R[j]:\n",
    "                arr[k] = L[i]\n",
    "                i += 1\n",
    "            else:\n",
    "                arr[k] = R[j]\n",
    "                j += 1\n",
    "            k += 1\n",
    " \n",
    "        # Checking if any element was left\n",
    "        while i < len(L):\n",
    "            arr[k] = L[i]\n",
    "            i += 1\n",
    "            k += 1\n",
    " \n",
    "        while j < len(R):\n",
    "            arr[k] = R[j]\n",
    "            j += 1\n",
    "            k += 1\n",
    "    return arr\n",
    "#time taken \n",
    "start = time.time()\n",
    "\n",
    "sorted_freq = mergeSort(freq_dict_keys)\n",
    "end = time.time()\n",
    "\n",
    "mergeSortTime = end - start\n",
    "sortedTimeDict[\"Merge Sort\"] = mergeSortTime\n",
    "# print(mergeSortTime)\n",
    "sorted_freq.reverse()\n",
    "\n",
    "\n",
    "# # create the new dictionary\n",
    "sorted_freq_dict = {k:freq_dict_temp[k] for k in sorted_freq}\n",
    "print(sorted_freq_dict)\n"
   ]
  },
  {
   "cell_type": "code",
   "execution_count": 46,
   "metadata": {},
   "outputs": [
    {
     "name": "stdout",
     "output_type": "stream",
     "text": [
      "2.6464462280273438e-05\n",
      "{4: 'antioxidant', 3: 'avocado', 2: 'almonds', 1: 'black tea'}\n"
     ]
    }
   ],
   "source": [
    "def insertionSort(arr):\n",
    "     \n",
    "    if (n := len(arr)) <= 1:\n",
    "        return\n",
    "    for i in range(1, n):\n",
    "         \n",
    "        key = arr[i]\n",
    " \n",
    "        # Move elements of arr[0..i-1]\n",
    "        j = i-1\n",
    "        while j >=0 and key < arr[j] :\n",
    "                arr[j+1] = arr[j]\n",
    "                j -= 1\n",
    "        arr[j+1] = key\n",
    "    return arr\n",
    "#time taken \n",
    "start = time.time()\n",
    "\n",
    "sorted_freq = insertionSort(freq_dict_keys)\n",
    "end = time.time()\n",
    "\n",
    "insertionSortTime = end - start\n",
    "print(insertionSortTime)\n",
    "sortedTimeDict[\"Insertion Sort\"] = insertionSortTime\n",
    "\n",
    "sorted_freq.reverse()\n",
    "\n",
    "\n",
    "# #create the new dictionary\n",
    "sorted_freq_dict = {k:freq_dict_temp[k] for k in sorted_freq}\n",
    "print(sorted_freq_dict)"
   ]
  },
  {
   "cell_type": "code",
   "execution_count": null,
   "metadata": {},
   "outputs": [],
   "source": []
  },
  {
   "cell_type": "code",
   "execution_count": null,
   "metadata": {},
   "outputs": [],
   "source": []
  },
  {
   "cell_type": "code",
   "execution_count": null,
   "metadata": {},
   "outputs": [],
   "source": []
  },
  {
   "cell_type": "code",
   "execution_count": null,
   "metadata": {},
   "outputs": [],
   "source": []
  },
  {
   "cell_type": "code",
   "execution_count": null,
   "metadata": {},
   "outputs": [],
   "source": []
  },
  {
   "cell_type": "code",
   "execution_count": null,
   "metadata": {},
   "outputs": [],
   "source": []
  },
  {
   "cell_type": "code",
   "execution_count": null,
   "metadata": {},
   "outputs": [],
   "source": []
  },
  {
   "cell_type": "code",
   "execution_count": null,
   "metadata": {},
   "outputs": [],
   "source": []
  },
  {
   "cell_type": "code",
   "execution_count": 7,
   "metadata": {
    "id": "_uutgZt4mcgz"
   },
   "outputs": [],
   "source": [
    "# sample transaction data for testing\n",
    "\n",
    "transaction_data = \\\n",
    "[['almonds','antioxidant juice','avocado','black tea'],\n",
    "['almonds'],\n",
    "['almonds','antioxidant juice']]"
   ]
  },
  {
   "cell_type": "code",
   "execution_count": null,
   "metadata": {},
   "outputs": [],
   "source": []
  },
  {
   "cell_type": "code",
   "execution_count": null,
   "metadata": {},
   "outputs": [],
   "source": []
  },
  {
   "cell_type": "code",
   "execution_count": null,
   "metadata": {},
   "outputs": [],
   "source": []
  },
  {
   "cell_type": "code",
   "execution_count": null,
   "metadata": {},
   "outputs": [],
   "source": []
  },
  {
   "cell_type": "code",
   "execution_count": null,
   "metadata": {},
   "outputs": [],
   "source": []
  },
  {
   "cell_type": "code",
   "execution_count": null,
   "metadata": {},
   "outputs": [],
   "source": []
  },
  {
   "cell_type": "code",
   "execution_count": null,
   "metadata": {},
   "outputs": [],
   "source": []
  },
  {
   "cell_type": "code",
   "execution_count": null,
   "metadata": {},
   "outputs": [],
   "source": []
  },
  {
   "cell_type": "code",
   "execution_count": 8,
   "metadata": {},
   "outputs": [],
   "source": [
    "def view_items():\n",
    "    print('------------------View Items------------------')\n",
    "    print('The number of items in the store are : ', len(item_dict))\n",
    "    if len(item_dict) != 0:\n",
    "          print('Here are all the items available in the store.')\n",
    "    for key, value in item_dict.items():\n",
    "          print(f\"{key:<30} {value:<95}\")\n",
    "\n"
   ]
  },
  {
   "cell_type": "code",
   "execution_count": 9,
   "metadata": {},
   "outputs": [],
   "source": [
    "def view_transactions():\n",
    "    print('------------------Total Transactions------------------')\n",
    "    print('The number of transactions is : ', len(transaction_data))"
   ]
  },
  {
   "cell_type": "code",
   "execution_count": 23,
   "metadata": {},
   "outputs": [],
   "source": [
    "def update_counter(trans):\n",
    "    for item in trans: # looping over each item present in the transaction\n",
    "            if item in freq_dict:\n",
    "                freq_dict[item]+= 1 # increment the frequency by 1 if the item is found in the dictionary\n",
    "            else:\n",
    "                freq_dict[item] = 1 # create a new key with the item name if the item is found for the first time"
   ]
  },
  {
   "cell_type": "code",
   "execution_count": 12,
   "metadata": {},
   "outputs": [],
   "source": [
    "def add_items():\n",
    "    print('------------------Add Items to the store------------------')\n",
    "    item_name = input('Enter the item to add : ')\n",
    "    item_price = input('Enter the price of the item : ')\n",
    "    item_dict[item_name] = item_price"
   ]
  },
  {
   "cell_type": "code",
   "execution_count": 13,
   "metadata": {},
   "outputs": [],
   "source": [
    "def remove_items():\n",
    "    print('------------------Remove Items from the store------------------')\n",
    "    item_name = input('Enter the item to remove : ')\n",
    "    item_dict.pop(item_name)"
   ]
  },
  {
   "cell_type": "code",
   "execution_count": 14,
   "metadata": {},
   "outputs": [],
   "source": [
    "def findprice_item():\n",
    "    print('------------------Find price of an item------------------\\n')\n",
    "    item_name = input('Enter the item name: ')\n",
    "    item_price = item_dict[item_name]\n",
    "    print(f\"The price of {item_name} is {item_price}\")"
   ]
  },
  {
   "cell_type": "code",
   "execution_count": 15,
   "metadata": {},
   "outputs": [],
   "source": [
    "def search_transaction():\n",
    "    print('------------------Search the transaction list------------------\\n')\n",
    "    transaction_num = int(input('Enter the transaction to find: '))\n",
    "    transaction = transaction_data[transaction_num-1]\n",
    "    print(f\"There are {len(transaction)} items in this transaction and they are {transaction}\")\n",
    "    print(f\"There are {len(transaction)} items in this transaction and they are\\n\")\n",
    "    print(*transaction, sep=\"\\n\")\n",
    "    find_totalcost(transaction)"
   ]
  },
  {
   "cell_type": "code",
   "execution_count": 47,
   "metadata": {},
   "outputs": [
    {
     "name": "stdout",
     "output_type": "stream",
     "text": [
      "2.9087066650390625e-05\n",
      "{4: 'antioxidant', 3: 'avocado', 2: 'almonds', 1: 'black tea'}\n"
     ]
    }
   ],
   "source": [
    "def selectionSort(arr):\n",
    "    \n",
    "    for ind in range(len(arr)):\n",
    "        min_index = ind\n",
    " \n",
    "        for j in range(ind + 1, len(arr)):\n",
    "            # minimum element in iteration\n",
    "            if arr[j] < arr[min_index]:\n",
    "                min_index = j\n",
    "         # swapping the elements \n",
    "        (arr[ind], arr[min_index]) = (arr[min_index], arr[ind])\n",
    "    return arr\n",
    "\n",
    "#time taken \n",
    "start = time.time()\n",
    "\n",
    "sorted_freq = selectionSort(freq_dict_keys)\n",
    "end = time.time()\n",
    "\n",
    "selectionSortTime = end - start\n",
    "print(selectionSortTime)\n",
    "sortedTimeDict[\"Selection Sort\"] = selectionSortTime\n",
    "\n",
    "\n",
    "sorted_freq.reverse()\n",
    "\n",
    "\n",
    "# # create the new dictionary\n",
    "sorted_freq_dict = {k:freq_dict_temp[k] for k in sorted_freq}\n",
    "print(sorted_freq_dict)"
   ]
  },
  {
   "cell_type": "code",
   "execution_count": 16,
   "metadata": {},
   "outputs": [],
   "source": [
    "def find_totalcost(transaction):\n",
    "    total_cost_beftax = 0\n",
    "     # for item in transaction:\n",
    "     #  total_cost_beftax+= int(item_dict[item])\n",
    "    total_cost_beftax += sum(int(item_dict[item]) for item in transaction)\n",
    "     # total = sum(int(cost) for cost in item_dict[key for key in transaction])\n",
    "    print(f\"Total cost before tax: {total_cost_beftax}\")\n",
    "    find_total(total_cost_beftax)"
   ]
  },
  {
   "cell_type": "code",
   "execution_count": 17,
   "metadata": {},
   "outputs": [],
   "source": [
    "def find_total(total_cost_beftax):\n",
    "    tax = 5\n",
    "    total_cost = total_cost_beftax + ((5/100) * total_cost_beftax)\n",
    "     # total = sum(int(cost) for cost in item_dict[key for key in transaction])\n",
    "    print(f\"Mandatory govt. tax : {tax}\")\n",
    "    print(f\"Total cost after tax : {total_cost}\")\n"
   ]
  },
  {
   "cell_type": "code",
   "execution_count": null,
   "metadata": {},
   "outputs": [],
   "source": []
  },
  {
   "cell_type": "code",
   "execution_count": 18,
   "metadata": {},
   "outputs": [],
   "source": [
    "def inventory():\n",
    "    print('------------Welcome to the Inventory Management System---------------\\n')\n",
    "    print('1. View items\\n2. Add items\\n3. Remove items\\n')\n",
    "    choice = int(input('Please enter a number : '))\n",
    "    if choice == 1:\n",
    "        view_items()\n",
    "    elif choice == 2:\n",
    "        add_items()\n",
    "        print('-------Item Added. Please have a look-----\\n')\n",
    "        view_items()\n",
    "    elif choice == 3:\n",
    "        remove_items()\n",
    "        print('-------Item Removed. Please have a look-----\\n')\n",
    "        view_items()\n",
    "    else:\n",
    "        print('You entered an invalid option')"
   ]
  },
  {
   "cell_type": "code",
   "execution_count": 27,
   "metadata": {},
   "outputs": [],
   "source": [
    "def billing():\n",
    "    print('------------Welcome to the Billing Management System---------------\\n')\n",
    "    print('1. Total Transactions\\n2. Add Transaction\\n3. Find Item price \\n4. Search Transactions\\n')\n",
    "    choice = int(input('Please enter a number : '))\n",
    "    if choice == 1:\n",
    "        view_transactions()\n",
    "    elif choice == 2:\n",
    "        trans = ast.literal_eval(input())\n",
    "        update_counter(trans)\n",
    "    elif choice == 3:\n",
    "        findprice_item()\n",
    "    elif choice == 4:\n",
    "        search_transaction()\n",
    "    else:\n",
    "        print('You entered an invalid option')"
   ]
  },
  {
   "cell_type": "code",
   "execution_count": 28,
   "metadata": {
    "id": "lTmOHxeVmjt0"
   },
   "outputs": [
    {
     "name": "stdout",
     "output_type": "stream",
     "text": [
      "------------------Welcome to the stores------------------\n",
      "\n",
      "1. Inventory Management System\n",
      "2. Billing System\n",
      "3. Quit\n",
      "\n",
      "Please select : 2\n",
      "------------------Item Frequency------------------\n",
      "------------Welcome to the Billing Management System---------------\n",
      "\n",
      "1. Total Transactions\n",
      "2. Add Transaction\n",
      "3. Find Item price \n",
      "4. Search Transactions\n",
      "\n",
      "Please enter a number : 2\n",
      "['almonds','avocado']\n",
      "------------------Welcome to the stores------------------\n",
      "\n",
      "1. Inventory Management System\n",
      "2. Billing System\n",
      "3. Quit\n",
      "\n",
      "Please select : 2\n",
      "------------------Item Frequency------------------\n",
      "------------Welcome to the Billing Management System---------------\n",
      "\n",
      "1. Total Transactions\n",
      "2. Add Transaction\n",
      "3. Find Item price \n",
      "4. Search Transactions\n",
      "\n",
      "Please enter a number : 1\n",
      "------------------Total Transactions------------------\n",
      "The number of transactions is :  3\n",
      "------------------Welcome to the stores------------------\n",
      "\n",
      "1. Inventory Management System\n",
      "2. Billing System\n",
      "3. Quit\n",
      "\n",
      "Please select : 3\n",
      "------------------Item Frequency------------------\n",
      "------Quit-------\n"
     ]
    }
   ],
   "source": [
    "import ast\n",
    "while True:\n",
    "    print('------------------Welcome to the stores------------------\\n')\n",
    "    print('1. Inventory Management System\\n2. Billing System\\n3. Quit\\n')\n",
    "    choice = int(input('Please select : '))\n",
    "    freq_dict = {}\n",
    "    add_items_freq()\n",
    "    if choice == 1:\n",
    "        inventory()\n",
    "    elif choice == 2:\n",
    "        billing()\n",
    "    elif choice == 3:\n",
    "        print('------Quit-------')\n",
    "        break\n",
    "    else:\n",
    "        print('Invalid choice')\n",
    "\n",
    "\n",
    "\n"
   ]
  },
  {
   "cell_type": "markdown",
   "metadata": {},
   "source": [
    "# "
   ]
  },
  {
   "cell_type": "code",
   "execution_count": 33,
   "metadata": {},
   "outputs": [
    {
     "ename": "NameError",
     "evalue": "name 'freq_dict' is not defined",
     "output_type": "error",
     "traceback": [
      "\u001b[0;31m---------------------------------------------------------------------------\u001b[0m",
      "\u001b[0;31mNameError\u001b[0m                                 Traceback (most recent call last)",
      "\u001b[0;32m/tmp/ipykernel_3618/3385250523.py\u001b[0m in \u001b[0;36m<module>\u001b[0;34m\u001b[0m\n\u001b[0;32m----> 1\u001b[0;31m \u001b[0mfreq_dict\u001b[0m\u001b[0;34m\u001b[0m\u001b[0;34m\u001b[0m\u001b[0m\n\u001b[0m",
      "\u001b[0;31mNameError\u001b[0m: name 'freq_dict' is not defined"
     ]
    }
   ],
   "source": [
    "# freq_dict"
   ]
  },
  {
   "cell_type": "code",
   "execution_count": 29,
   "metadata": {},
   "outputs": [
    {
     "data": {
      "text/plain": [
       "{2: 'almonds', 4: 'antioxidant', 3: 'avocado', 1: 'black tea'}"
      ]
     },
     "execution_count": 29,
     "metadata": {},
     "output_type": "execute_result"
    }
   ],
   "source": [
    "# rearranging for displaying sorted items after invoking the 3 sorting functions.\n",
    "\n",
    "# sample for testing\n",
    "# freq_dict_temp = {'almonds': 2, 'antioxidant': 4, 'avocado': 3, 'black tea': 1}\n",
    "# sample for testing\n",
    "\n",
    "# temp storage of items. Not really needed as it adds memory but maintained for swapping the key and value pair to be used later. \n",
    "# used for unit testing.\n",
    "freq_dict_temp = {freq_dict[k] : k for k in freq_dict}\n",
    "\n",
    "# freq_dict_temp"
   ]
  },
  {
   "cell_type": "code",
   "execution_count": null,
   "metadata": {},
   "outputs": [],
   "source": [
    "\n"
   ]
  },
  {
   "cell_type": "code",
   "execution_count": null,
   "metadata": {},
   "outputs": [],
   "source": []
  },
  {
   "cell_type": "code",
   "execution_count": null,
   "metadata": {},
   "outputs": [],
   "source": []
  },
  {
   "cell_type": "markdown",
   "metadata": {},
   "source": [
    "Q4. Walmart is running a discount week for Christmas! The sales manager has decided to keep a 20% discount on the top three selling items. Use the frequency counter that you created in Question 3 to solve this problem:\n",
    "\n",
    "What is the top-selling item?\n",
    "\n"
   ]
  },
  {
   "cell_type": "markdown",
   "metadata": {},
   "source": [
    "In real life, departmental stores have thousands of items and millions of transactions in their databases. In such situations, it becomes important to use an effective searching algorithm to navigate through the data. You need to sort the frequency counter dictionary by the value count(or the number of items). For example, if there are 3 apples, 5 bananas and 1 watermelon, the sorted list would be banana, apple, watermelon. So you need to sort the entire dictionary (with keys and values) based on the value count. Sort the frequency counter using the sorting algorithms provided in the table below. Additionally, for each of the sorting methods, leverage the time function in Python to see how many milliseconds it takes for an algorithm to sort items.\n",
    "\n",
    "Algorithm\tTime\n",
    "Merge \t \n",
    "Insertion\t \n",
    "Selection\t \n",
    "Rank the sorting algorithms in order of the time they take to sort items."
   ]
  },
  {
   "cell_type": "code",
   "execution_count": 64,
   "metadata": {},
   "outputs": [
    {
     "name": "stdout",
     "output_type": "stream",
     "text": [
      "Algorithm           ||            Time\n",
      "-----------------------------------------\n",
      "Insertion Sort                 2.6464462280273438e-05                                                                         \n",
      "Merge Sort                     2.86102294921875e-05                                                                           \n",
      "Selection Sort                 2.9087066650390625e-05                                                                         \n"
     ]
    }
   ],
   "source": [
    "print(\"Algorithm           ||            Time\")\n",
    "print(\"-----------------------------------------\")\n",
    "for key, value in sorted(sortedTimeDict.items()):\n",
    "    \n",
    "    print(f\"{key:<30} {value:<95}\")"
   ]
  },
  {
   "cell_type": "code",
   "execution_count": null,
   "metadata": {},
   "outputs": [],
   "source": []
  }
 ],
 "metadata": {
  "colab": {
   "name": "Data.ipynb",
   "provenance": []
  },
  "kernelspec": {
   "display_name": "Python 3 (ipykernel)",
   "language": "python",
   "name": "python3"
  },
  "language_info": {
   "codemirror_mode": {
    "name": "ipython",
    "version": 3
   },
   "file_extension": ".py",
   "mimetype": "text/x-python",
   "name": "python",
   "nbconvert_exporter": "python",
   "pygments_lexer": "ipython3",
   "version": "3.9.13"
  }
 },
 "nbformat": 4,
 "nbformat_minor": 1
}
