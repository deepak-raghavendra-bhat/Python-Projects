{
 "cells": [
  {
   "cell_type": "code",
   "execution_count": 1,
   "metadata": {
    "id": "OBF0Quv3mbGO"
   },
   "outputs": [],
   "source": [
    "# Sample Price Data for testing\n",
    "\n",
    "# item_dict = {'almonds': 6,\n",
    "#  'antioxidant juice': 9,\n",
    "#  'avocado': 1,\n",
    "#  'black tea': 4}"
   ]
  },
  {
   "cell_type": "code",
   "execution_count": 2,
   "metadata": {},
   "outputs": [],
   "source": [
    "# Price Data\n",
    "\n",
    "item_dict = {'almonds': 6,\n",
    " 'antioxidant juice': 9,\n",
    " 'avocado': 1,\n",
    " 'black tea': 4,\n",
    " 'burgers': 4,\n",
    " 'champagne': 3,\n",
    " 'chicken': 4,\n",
    " 'chocolate': 7,\n",
    " 'chutney': 7,\n",
    " 'cookies': 7,\n",
    " 'cooking oil': 7,\n",
    " 'cottage cheese': 9,\n",
    " 'eggs': 9,\n",
    " 'energy bar': 9,\n",
    " 'energy drink': 3,\n",
    " 'extra dark chocolate': 8,\n",
    " 'french fries': 7,\n",
    " 'fresh tuna': 9,\n",
    " 'frozen smoothie': 7,\n",
    " 'frozen vegetables': 2,\n",
    " 'green grapes': 8,\n",
    " 'green tea': 8,\n",
    " 'honey': 9,\n",
    " 'light cream': 5,\n",
    " 'low fat yogurt': 4,\n",
    " 'meatballs': 9,\n",
    " 'milk': 5,\n",
    " 'mineral water': 2,\n",
    " 'oil': 9,\n",
    " 'olive oil': 8,\n",
    " 'pet food': 3,\n",
    " 'protein bar': 1,\n",
    " 'salad': 7,\n",
    " 'salmon': 3,\n",
    " 'shallot': 6,\n",
    " 'shrimp': 2,\n",
    " 'soup': 2,\n",
    " 'spaghetti': 6,\n",
    " 'spinach': 7,\n",
    " 'tomato juice': 8,\n",
    " 'tomatoes': 5,\n",
    " 'turkey': 8,\n",
    " 'vegetables mix': 3,\n",
    " 'whole wheat flour': 5,\n",
    " 'whole wheat pasta': 5,\n",
    " 'whole wheat rice': 4,\n",
    " 'yams': 7}"
   ]
  },
  {
   "cell_type": "code",
   "execution_count": 3,
   "metadata": {},
   "outputs": [],
   "source": [
    "# transaction data\n",
    "\n",
    "transaction_data = \\\n",
    "[['shrimp', 'almonds', 'avocado', 'vegetables mix', 'green grapes', 'whole wheat flour', 'yams', 'cottage cheese', 'energy drink', 'tomato juice', 'low fat yogurt', 'green tea', 'honey', 'salad', 'mineral water', 'salmon', 'antioxidant juice', 'frozen smoothie', 'spinach', 'olive oil'],\n",
    "['burgers', 'meatballs', 'eggs'],\n",
    "['chutney'],\n",
    "['turkey', 'avocado'],\n",
    "['mineral water', 'milk', 'energy bar', 'whole wheat rice', 'green tea'],\n",
    "['low fat yogurt'],\n",
    "['whole wheat pasta', 'french fries'],\n",
    "['soup', 'light cream', 'shallot'],\n",
    "['frozen vegetables', 'spaghetti', 'green tea'],\n",
    "['french fries'],\n",
    "['eggs', 'pet food'],\n",
    "['cookies'],\n",
    "['turkey', 'burgers', 'mineral water', 'eggs', 'cooking oil'],\n",
    "['spaghetti', 'champagne', 'cookies'],\n",
    "['mineral water', 'salmon'],\n",
    "['mineral water'],\n",
    "['shrimp', 'chocolate', 'chicken', 'honey', 'oil', 'cooking oil', 'low fat yogurt'],\n",
    "['turkey', 'eggs'],\n",
    "['turkey', 'fresh tuna', 'tomatoes', 'spaghetti', 'mineral water', 'black tea', 'salmon', 'eggs', 'chicken', 'extra dark chocolate'],\n",
    "['meatballs', 'milk', 'honey', 'french fries', 'protein bar']]"
   ]
  },
  {
   "cell_type": "markdown",
   "metadata": {},
   "source": [
    "Q1. Based on customer demand, items keep changing in the store. Your first task is to create a function that lets the admin add or remove items from the store directory(Cost dictionary).\n",
    "\n",
    "The code should help admin to accomplish the following tasks:"
   ]
  },
  {
   "cell_type": "markdown",
   "metadata": {},
   "source": [
    "Find how many unique items are present in the data?  (Hint: It will correspond to the number of key pairs in the Cost dictionary)"
   ]
  },
  {
   "cell_type": "code",
   "execution_count": 4,
   "metadata": {},
   "outputs": [
    {
     "name": "stdout",
     "output_type": "stream",
     "text": [
      "unique items :  47\n"
     ]
    }
   ],
   "source": [
    "print('unique items : ', len(item_dict))"
   ]
  },
  {
   "cell_type": "markdown",
   "metadata": {},
   "source": [
    "Find the total number of transactions?"
   ]
  },
  {
   "cell_type": "code",
   "execution_count": 5,
   "metadata": {},
   "outputs": [
    {
     "name": "stdout",
     "output_type": "stream",
     "text": [
      "total number of transactions :  20\n"
     ]
    }
   ],
   "source": [
    "print('total number of transactions : ', len(transaction_data))"
   ]
  },
  {
   "cell_type": "markdown",
   "metadata": {},
   "source": [
    "Add items, try adding the item “banana” in stores. The cost of this item is $5. Add the item “banana” to the Cost dictionary. \n",
    "Use a function named add_item( ) to automatically add an item to the Cost dictionary given its name and price."
   ]
  },
  {
   "cell_type": "code",
   "execution_count": 6,
   "metadata": {},
   "outputs": [
    {
     "name": "stdout",
     "output_type": "stream",
     "text": [
      "{'almonds': 6, 'antioxidant juice': 9, 'avocado': 1, 'black tea': 4, 'burgers': 4, 'champagne': 3, 'chicken': 4, 'chocolate': 7, 'chutney': 7, 'cookies': 7, 'cooking oil': 7, 'cottage cheese': 9, 'eggs': 9, 'energy bar': 9, 'energy drink': 3, 'extra dark chocolate': 8, 'french fries': 7, 'fresh tuna': 9, 'frozen smoothie': 7, 'frozen vegetables': 2, 'green grapes': 8, 'green tea': 8, 'honey': 9, 'light cream': 5, 'low fat yogurt': 4, 'meatballs': 9, 'milk': 5, 'mineral water': 2, 'oil': 9, 'olive oil': 8, 'pet food': 3, 'protein bar': 1, 'salad': 7, 'salmon': 3, 'shallot': 6, 'shrimp': 2, 'soup': 2, 'spaghetti': 6, 'spinach': 7, 'tomato juice': 8, 'tomatoes': 5, 'turkey': 8, 'vegetables mix': 3, 'whole wheat flour': 5, 'whole wheat pasta': 5, 'whole wheat rice': 4, 'yams': 7, 'banana': 5}\n"
     ]
    }
   ],
   "source": [
    "def add_items(item_name,item_price):\n",
    "    item_dict[item_name] = item_price\n",
    "\n",
    "add_items('banana',5)\n",
    "print(item_dict)"
   ]
  },
  {
   "cell_type": "markdown",
   "metadata": {},
   "source": [
    "Remove an item: for example: if the customers at Walmart do not seem to be purchasing “banana,” and the store decides to discontinue this item. The function to should be able to remove the item “banana” from the Cost dictionary\n",
    "Create a function called remove_item( ) to automatically remove an item from the Cost dictionary given its name."
   ]
  },
  {
   "cell_type": "code",
   "execution_count": 7,
   "metadata": {},
   "outputs": [
    {
     "name": "stdout",
     "output_type": "stream",
     "text": [
      "{'almonds': 6, 'antioxidant juice': 9, 'avocado': 1, 'black tea': 4, 'burgers': 4, 'champagne': 3, 'chicken': 4, 'chocolate': 7, 'chutney': 7, 'cookies': 7, 'cooking oil': 7, 'cottage cheese': 9, 'eggs': 9, 'energy bar': 9, 'energy drink': 3, 'extra dark chocolate': 8, 'french fries': 7, 'fresh tuna': 9, 'frozen smoothie': 7, 'frozen vegetables': 2, 'green grapes': 8, 'green tea': 8, 'honey': 9, 'light cream': 5, 'low fat yogurt': 4, 'meatballs': 9, 'milk': 5, 'mineral water': 2, 'oil': 9, 'olive oil': 8, 'pet food': 3, 'protein bar': 1, 'salad': 7, 'salmon': 3, 'shallot': 6, 'shrimp': 2, 'soup': 2, 'spaghetti': 6, 'spinach': 7, 'tomato juice': 8, 'tomatoes': 5, 'turkey': 8, 'vegetables mix': 3, 'whole wheat flour': 5, 'whole wheat pasta': 5, 'whole wheat rice': 4, 'yams': 7}\n"
     ]
    }
   ],
   "source": [
    "def remove_items(item_name):\n",
    "    item_dict.pop(item_name)\n",
    "\n",
    "remove_items('banana')\n",
    "print(item_dict)"
   ]
  },
  {
   "cell_type": "markdown",
   "metadata": {},
   "source": [
    "Q2. Once a customer has completed shopping, they need to be billed for the total amount of all the items. This can be done automatically by swiping each item’s barcode on a checkout system. Your second task is to build the software underlying the checkout system, which finds the total cost of all the items in a customer’s cart, including taxes:"
   ]
  },
  {
   "cell_type": "markdown",
   "metadata": {},
   "source": [
    "Write the code, to find the price of an item from the cost dictionary\n",
    "\n",
    "Find the price of salmon from the cost dictionary"
   ]
  },
  {
   "cell_type": "code",
   "execution_count": 8,
   "metadata": {},
   "outputs": [
    {
     "name": "stdout",
     "output_type": "stream",
     "text": [
      "The price of salmon is 3\n"
     ]
    }
   ],
   "source": [
    "def findprice_item(item_name):\n",
    "    \n",
    "    if item_name in item_dict:\n",
    "        item_price = item_dict[item_name]\n",
    "        print(f\"The price of {item_name} is {item_price}\")\n",
    "    else:\n",
    "        print(\"Item not present in the Dictionary.\")\n",
    "\n",
    "findprice_item('salmon')"
   ]
  },
  {
   "cell_type": "markdown",
   "metadata": {},
   "source": [
    "Write a code that helps the administrator find any particular transaction in the sequence\n",
    "\n",
    "Try finding the ninth transaction from the data\n",
    "\n"
   ]
  },
  {
   "cell_type": "code",
   "execution_count": 9,
   "metadata": {},
   "outputs": [],
   "source": [
    "\n",
    "def search_transaction(transaction_num):\n",
    "    transaction = transaction_data[transaction_num-1]\n",
    "#     print(transaction)\n",
    "    if transaction:\n",
    "#         print(f\"There are {len(transaction)} items in this transaction and they are {transaction}\")\n",
    "        print(f\"There are {len(transaction)} items in this transaction and they are\\n\")\n",
    "        print(*transaction, sep=\"\\n\")\n",
    "    else:\n",
    "        print(\"Invalid input\")\n",
    "    return transaction\n",
    "\n"
   ]
  },
  {
   "cell_type": "markdown",
   "metadata": {},
   "source": [
    "How many items are present in the ninth transaction?"
   ]
  },
  {
   "cell_type": "code",
   "execution_count": 10,
   "metadata": {},
   "outputs": [
    {
     "name": "stdout",
     "output_type": "stream",
     "text": [
      "There are 3 items in this transaction and they are\n",
      "\n",
      "frozen vegetables\n",
      "spaghetti\n",
      "green tea\n"
     ]
    }
   ],
   "source": [
    "transaction_list = search_transaction(9)\n",
    "# print(transaction)"
   ]
  },
  {
   "cell_type": "markdown",
   "metadata": {},
   "source": [
    "Find the total cost of the ninth transaction from the array of transactions. Example: Input: [‘avocado’, ‘chutney’, ‘cookies’], Output: 15"
   ]
  },
  {
   "cell_type": "markdown",
   "metadata": {},
   "source": [
    "As per government guidelines, a mandatory 5% tax is applied to the total cost of a transaction. Find the final price of the second transaction after applicable taxes have been implemented.\n",
    "\n",
    "Create a function named find_total( ) to find the final price of any transaction after applicable taxes have been implemented."
   ]
  },
  {
   "cell_type": "code",
   "execution_count": 11,
   "metadata": {},
   "outputs": [
    {
     "name": "stdout",
     "output_type": "stream",
     "text": [
      "Total cost: 16\n",
      "Mandatory govt. tax : 5\n",
      "Total cost after tax : 16.8\n"
     ]
    }
   ],
   "source": [
    "def find_totalcost(transaction):\n",
    "    total_cost_beftax = 0\n",
    "     # for item in transaction:\n",
    "     #  total_cost_beftax+= int(item_dict[item])\n",
    "    total_cost_beftax += sum(int(item_dict[item]) for item in transaction)\n",
    "     # total = sum(int(cost) for cost in item_dict[key for key in transaction])\n",
    "    print(f\"Total cost: {total_cost_beftax}\")\n",
    "    find_total(total_cost_beftax)\n",
    "\n",
    "#     Create a function named find_total( ) to find the final price of any transaction after applicable taxes have been implemented.\n",
    "def find_total(total_cost_beftax):\n",
    "    tax = 5\n",
    "    total_cost = total_cost_beftax + ((5/100) * total_cost_beftax)\n",
    "     # total = sum(int(cost) for cost in item_dict[key for key in transaction])\n",
    "    print(f\"Mandatory govt. tax : {tax}\")\n",
    "    print(f\"Total cost after tax : {total_cost}\")\n",
    "\n",
    "find_totalcost(transaction_list)"
   ]
  },
  {
   "cell_type": "markdown",
   "metadata": {},
   "source": [
    "Q3. There is always a flow of items in and out of stores, which need to be tracked so that the store can place an order in case an item is running out of stock. Your third task is to build an inventory management system that will count the total number of items purchased from the transaction data. This inventory management system will go through each of the transactions one by one and increment the value for an item if it is found in a transaction."
   ]
  },
  {
   "cell_type": "markdown",
   "metadata": {},
   "source": [
    "What is the data structure that can be used to count the frequency of items purchased (from the transaction data)?\n",
    "\n"
   ]
  },
  {
   "cell_type": "code",
   "execution_count": 12,
   "metadata": {},
   "outputs": [],
   "source": [
    "freq_dict = {}"
   ]
  },
  {
   "cell_type": "markdown",
   "metadata": {},
   "source": [
    "Create a frequency counter to count the number of items:"
   ]
  },
  {
   "cell_type": "code",
   "execution_count": 13,
   "metadata": {},
   "outputs": [
    {
     "name": "stdout",
     "output_type": "stream",
     "text": [
      "------------------Item Frequency------------------\n",
      "shrimp                         2                                                                                              \n",
      "almonds                        1                                                                                              \n",
      "avocado                        2                                                                                              \n",
      "vegetables mix                 1                                                                                              \n",
      "green grapes                   1                                                                                              \n",
      "whole wheat flour              1                                                                                              \n",
      "yams                           1                                                                                              \n",
      "cottage cheese                 1                                                                                              \n",
      "energy drink                   1                                                                                              \n",
      "tomato juice                   1                                                                                              \n",
      "low fat yogurt                 3                                                                                              \n",
      "green tea                      3                                                                                              \n",
      "honey                          3                                                                                              \n",
      "salad                          1                                                                                              \n",
      "mineral water                  6                                                                                              \n",
      "salmon                         3                                                                                              \n",
      "antioxidant juice              1                                                                                              \n",
      "frozen smoothie                1                                                                                              \n",
      "spinach                        1                                                                                              \n",
      "olive oil                      1                                                                                              \n",
      "burgers                        2                                                                                              \n",
      "meatballs                      2                                                                                              \n",
      "eggs                           5                                                                                              \n",
      "chutney                        1                                                                                              \n",
      "turkey                         4                                                                                              \n",
      "milk                           2                                                                                              \n",
      "energy bar                     1                                                                                              \n",
      "whole wheat rice               1                                                                                              \n",
      "whole wheat pasta              1                                                                                              \n",
      "french fries                   3                                                                                              \n",
      "soup                           1                                                                                              \n",
      "light cream                    1                                                                                              \n",
      "shallot                        1                                                                                              \n",
      "frozen vegetables              1                                                                                              \n",
      "spaghetti                      3                                                                                              \n",
      "pet food                       1                                                                                              \n",
      "cookies                        2                                                                                              \n",
      "cooking oil                    2                                                                                              \n",
      "champagne                      1                                                                                              \n",
      "chocolate                      1                                                                                              \n",
      "chicken                        2                                                                                              \n",
      "oil                            1                                                                                              \n",
      "fresh tuna                     1                                                                                              \n",
      "tomatoes                       1                                                                                              \n",
      "black tea                      1                                                                                              \n",
      "extra dark chocolate           1                                                                                              \n",
      "protein bar                    1                                                                                              \n"
     ]
    }
   ],
   "source": [
    "def add_items_freq():\n",
    "    print('------------------Item Frequency------------------')\n",
    "    for transaction in transaction_data:\n",
    "        for item in transaction: # looping over each item present in the transaction\n",
    "            if item in freq_dict:\n",
    "                freq_dict[item]+= 1 # increment the frequency by 1 if the item is found in the dictionary\n",
    "            else:\n",
    "                freq_dict[item] = 1 # create a new key with the item name if the item is found for the first time\n",
    "    for key, value in freq_dict.items():\n",
    "        print(f\"{key:<30} {value:<95}\")    \n",
    "\n",
    "add_items_freq()\n",
    "\n"
   ]
  },
  {
   "cell_type": "markdown",
   "metadata": {},
   "source": [
    "A new transaction has just been made. This transaction includes “honey,” “pet food,” and “shrimp.” Update the frequency counter to reflect this new transaction."
   ]
  },
  {
   "cell_type": "code",
   "execution_count": 14,
   "metadata": {},
   "outputs": [],
   "source": [
    "trans = ['honey', 'pet food', 'shrimp']"
   ]
  },
  {
   "cell_type": "markdown",
   "metadata": {},
   "source": [
    "Create a function named update_counter( ) to automatically update the frequency counter in case any new transaction is made."
   ]
  },
  {
   "cell_type": "code",
   "execution_count": 15,
   "metadata": {},
   "outputs": [
    {
     "name": "stdout",
     "output_type": "stream",
     "text": [
      "shrimp                         3                                                                                              \n",
      "almonds                        1                                                                                              \n",
      "avocado                        2                                                                                              \n",
      "vegetables mix                 1                                                                                              \n",
      "green grapes                   1                                                                                              \n",
      "whole wheat flour              1                                                                                              \n",
      "yams                           1                                                                                              \n",
      "cottage cheese                 1                                                                                              \n",
      "energy drink                   1                                                                                              \n",
      "tomato juice                   1                                                                                              \n",
      "low fat yogurt                 3                                                                                              \n",
      "green tea                      3                                                                                              \n",
      "honey                          4                                                                                              \n",
      "salad                          1                                                                                              \n",
      "mineral water                  6                                                                                              \n",
      "salmon                         3                                                                                              \n",
      "antioxidant juice              1                                                                                              \n",
      "frozen smoothie                1                                                                                              \n",
      "spinach                        1                                                                                              \n",
      "olive oil                      1                                                                                              \n",
      "burgers                        2                                                                                              \n",
      "meatballs                      2                                                                                              \n",
      "eggs                           5                                                                                              \n",
      "chutney                        1                                                                                              \n",
      "turkey                         4                                                                                              \n",
      "milk                           2                                                                                              \n",
      "energy bar                     1                                                                                              \n",
      "whole wheat rice               1                                                                                              \n",
      "whole wheat pasta              1                                                                                              \n",
      "french fries                   3                                                                                              \n",
      "soup                           1                                                                                              \n",
      "light cream                    1                                                                                              \n",
      "shallot                        1                                                                                              \n",
      "frozen vegetables              1                                                                                              \n",
      "spaghetti                      3                                                                                              \n",
      "pet food                       2                                                                                              \n",
      "cookies                        2                                                                                              \n",
      "cooking oil                    2                                                                                              \n",
      "champagne                      1                                                                                              \n",
      "chocolate                      1                                                                                              \n",
      "chicken                        2                                                                                              \n",
      "oil                            1                                                                                              \n",
      "fresh tuna                     1                                                                                              \n",
      "tomatoes                       1                                                                                              \n",
      "black tea                      1                                                                                              \n",
      "extra dark chocolate           1                                                                                              \n",
      "protein bar                    1                                                                                              \n",
      "{'shrimp': 3, 'almonds': 1, 'avocado': 2, 'vegetables mix': 1, 'green grapes': 1, 'whole wheat flour': 1, 'yams': 1, 'cottage cheese': 1, 'energy drink': 1, 'tomato juice': 1, 'low fat yogurt': 3, 'green tea': 3, 'honey': 4, 'salad': 1, 'mineral water': 6, 'salmon': 3, 'antioxidant juice': 1, 'frozen smoothie': 1, 'spinach': 1, 'olive oil': 1, 'burgers': 2, 'meatballs': 2, 'eggs': 5, 'chutney': 1, 'turkey': 4, 'milk': 2, 'energy bar': 1, 'whole wheat rice': 1, 'whole wheat pasta': 1, 'french fries': 3, 'soup': 1, 'light cream': 1, 'shallot': 1, 'frozen vegetables': 1, 'spaghetti': 3, 'pet food': 2, 'cookies': 2, 'cooking oil': 2, 'champagne': 1, 'chocolate': 1, 'chicken': 2, 'oil': 1, 'fresh tuna': 1, 'tomatoes': 1, 'black tea': 1, 'extra dark chocolate': 1, 'protein bar': 1}\n"
     ]
    }
   ],
   "source": [
    "def update_counter(trans):\n",
    "    for item in trans: # looping over each item present in the transaction\n",
    "            if item in freq_dict:\n",
    "                freq_dict[item]+= 1 # increment the frequency by 1 if the item is found in the dictionary\n",
    "            else:\n",
    "                freq_dict[item] = 1 # create a new key with the item name if the item is found for the first time\n",
    "    for key, value in freq_dict.items():\n",
    "        print(f\"{key:<30} {value:<95}\")    \n",
    "    return freq_dict\n",
    "\n",
    "freq_dict = update_counter(trans)\n",
    "print(freq_dict)"
   ]
  },
  {
   "cell_type": "markdown",
   "metadata": {},
   "source": [
    "Q4. Walmart is running a discount week for Christmas! The sales manager has decided to keep a 20% discount on the top three selling items. Use the frequency counter that you created in Question 3 to solve this problem:\n",
    "\n",
    "What is the top-selling item?"
   ]
  },
  {
   "cell_type": "code",
   "execution_count": 16,
   "metadata": {},
   "outputs": [
    {
     "name": "stdout",
     "output_type": "stream",
     "text": [
      "Top selling item:  mineral water\n"
     ]
    }
   ],
   "source": [
    "# rearranging for displaying sorted items after invoking the 3 sorting functions.\n",
    "\n",
    "# sample for testing\n",
    "# freq_dict_temp = {'almonds': 2, 'antioxidant': 4, 'avocado': 3, 'black tea': 1}\n",
    "# sample for testing\n",
    "\n",
    "# temp storage of items. Not really needed as it adds memory but maintained for swapping the key and value pair to be used later. \n",
    "# used for unit testing.\n",
    "freq_dict_temp = {freq_dict[k] : k for k in freq_dict}\n",
    "\n",
    "# freq_dict_temp\n",
    "\n",
    "max_value = sorted(freq_dict.values())[-1]\n",
    "\n",
    "print(\"Top selling item: \",freq_dict_temp[max_value])"
   ]
  },
  {
   "cell_type": "code",
   "execution_count": null,
   "metadata": {},
   "outputs": [],
   "source": [
    "\n"
   ]
  },
  {
   "cell_type": "code",
   "execution_count": 17,
   "metadata": {},
   "outputs": [
    {
     "name": "stdout",
     "output_type": "stream",
     "text": [
      "{'shrimp': 3, 'almonds': 1, 'avocado': 2, 'vegetables mix': 1, 'green grapes': 1, 'whole wheat flour': 1, 'yams': 1, 'cottage cheese': 1, 'energy drink': 1, 'tomato juice': 1, 'low fat yogurt': 3, 'green tea': 3, 'honey': 4, 'salad': 1, 'mineral water': 6, 'salmon': 3, 'antioxidant juice': 1, 'frozen smoothie': 1, 'spinach': 1, 'olive oil': 1, 'burgers': 2, 'meatballs': 2, 'eggs': 5, 'chutney': 1, 'turkey': 4, 'milk': 2, 'energy bar': 1, 'whole wheat rice': 1, 'whole wheat pasta': 1, 'french fries': 3, 'soup': 1, 'light cream': 1, 'shallot': 1, 'frozen vegetables': 1, 'spaghetti': 3, 'pet food': 2, 'cookies': 2, 'cooking oil': 2, 'champagne': 1, 'chocolate': 1, 'chicken': 2, 'oil': 1, 'fresh tuna': 1, 'tomatoes': 1, 'black tea': 1, 'extra dark chocolate': 1, 'protein bar': 1}\n"
     ]
    }
   ],
   "source": [
    "print(freq_dict)"
   ]
  },
  {
   "cell_type": "markdown",
   "metadata": {},
   "source": [
    "In real life, departmental stores have thousands of items and millions of transactions in their databases. In such situations, it becomes important to use an effective searching algorithm to navigate through the data. You need to sort the frequency counter dictionary by the value count(or the number of items). For example, if there are 3 apples, 5 bananas and 1 watermelon, the sorted list would be banana, apple, watermelon. So you need to sort the entire dictionary (with keys and values) based on the value count. Sort the frequency counter using the sorting algorithms provided in the table below. Additionally, for each of the sorting methods, leverage the time function in Python to see how many milliseconds it takes for an algorithm to sort items.\n",
    "\n",
    "Algorithm\tTime\n",
    "Merge \t \n",
    "Insertion\t \n",
    "Selection\t \n",
    "Rank the sorting algorithms in order of the time they take to sort items."
   ]
  },
  {
   "cell_type": "code",
   "execution_count": 20,
   "metadata": {},
   "outputs": [
    {
     "name": "stdout",
     "output_type": "stream",
     "text": [
      "Algorithm           ||            Time\n",
      "-----------------------------------------\n",
      "Insertion Sort                 3.075599670410156e-05                                                                          \n",
      "Merge Sort                     4.982948303222656e-05                                                                          \n",
      "Selection Sort                 5.626678466796875e-05                                                                          \n"
     ]
    }
   ],
   "source": [
    "\n",
    "import time\n",
    "# merge sort impl\n",
    "def merge_sort(dictionary):\n",
    "    if len(dictionary) > 1:\n",
    "        mid = len(dictionary) // 2\n",
    "        left = dictionary[:mid]\n",
    "        right = dictionary[mid:]\n",
    "\n",
    "        merge_sort(left)\n",
    "        merge_sort(right)\n",
    "\n",
    "        i = 0\n",
    "        j = 0\n",
    "        k = 0\n",
    "        while i < len(left) and j < len(right):\n",
    "            if left[i][1] < right[j][1]:\n",
    "                dictionary[k] = left[i]\n",
    "                i += 1\n",
    "            else:\n",
    "                dictionary[k] = right[j]\n",
    "                j += 1\n",
    "            k += 1\n",
    "\n",
    "        while i < len(left):\n",
    "            dictionary[k] = left[i]\n",
    "            i += 1\n",
    "            k += 1\n",
    "\n",
    "        while j < len(right):\n",
    "            dictionary[k] = right[j]\n",
    "            j += 1\n",
    "            k += 1\n",
    "# merge sort impl\n",
    "# insertion sort impl\n",
    "def insertion_sort(dictionary):\n",
    "    for i in range(1, len(dictionary)):\n",
    "        key = dictionary[i]\n",
    "        j = i - 1\n",
    "        while j >= 0 and key[1] < dictionary[j][1]:\n",
    "            dictionary[j + 1] = dictionary[j]\n",
    "            j -= 1\n",
    "        dictionary[j + 1] = key\n",
    "# insertion sort impl\n",
    "# selection_sort impl\n",
    "def selection_sort(dictionary):\n",
    "    for i in range(len(dictionary)):\n",
    "        min_idx = i\n",
    "        for j in range(i + 1, len(dictionary)):\n",
    "            if dictionary[min_idx][1] > dictionary[j][1]:\n",
    "                min_idx = j\n",
    "        dictionary[i], dictionary[min_idx] = dictionary[min_idx], dictionary[i]\n",
    "# selection_sort impl\n",
    "def sorting():\n",
    "    dictionary = list(freq_dict.items())\n",
    "    \n",
    "\n",
    "    sortedTimeDict = {}\n",
    "    \n",
    "    start = time.time()\n",
    "    merge_sort(dictionary)\n",
    "    end = time.time()\n",
    "#     print(\"Merge sort:\")\n",
    "#     print(dictionary)\n",
    "    mergeSortTime = end - start\n",
    "#     print(\"\\nTime taken:\", end - start)\n",
    "#     print(\"\\n\\n\")\n",
    "    sortedTimeDict[\"Merge Sort\"] = mergeSortTime\n",
    "\n",
    "    dictionary = list(freq_dict.items())\n",
    "    start = time.time()\n",
    "    insertion_sort(dictionary)\n",
    "    end = time.time()\n",
    "#     print(\"Insertion sort:\")\n",
    "#     print(dictionary)\n",
    "    \n",
    "    insertionSortTime = end - start\n",
    "#     print(\"\\nTime taken:\", end - start)\n",
    "#     print(\"\\n\\n\")\n",
    "    sortedTimeDict[\"Insertion Sort\"] = insertionSortTime\n",
    "\n",
    "    dictionary = list(freq_dict.items())\n",
    "    start = time.time()\n",
    "    selection_sort(dictionary)\n",
    "    end = time.time()\n",
    "#     print(\"Selection sort:\")\n",
    "#     print(dictionary)\n",
    "    selectionSortTime = end - start\n",
    "#     print(\"\\nTime taken:\", end - start)\n",
    "#     print(\"\\n\")\n",
    "    sortedTimeDict[\"Selection Sort\"] = selectionSortTime\n",
    "    \n",
    "    print(\"Algorithm           ||            Time\")\n",
    "    print(\"-----------------------------------------\")\n",
    "    for key, value in sorted(sortedTimeDict.items()):\n",
    "    \n",
    "        print(f\"{key:<30} {value:<95}\")\n",
    "\n",
    "# call all sorting algos\n",
    "sorting()\n"
   ]
  },
  {
   "cell_type": "code",
   "execution_count": null,
   "metadata": {},
   "outputs": [],
   "source": []
  }
 ],
 "metadata": {
  "colab": {
   "name": "Data.ipynb",
   "provenance": []
  },
  "kernelspec": {
   "display_name": "Python 3 (ipykernel)",
   "language": "python",
   "name": "python3"
  },
  "language_info": {
   "codemirror_mode": {
    "name": "ipython",
    "version": 3
   },
   "file_extension": ".py",
   "mimetype": "text/x-python",
   "name": "python",
   "nbconvert_exporter": "python",
   "pygments_lexer": "ipython3",
   "version": "3.9.13"
  }
 },
 "nbformat": 4,
 "nbformat_minor": 1
}
